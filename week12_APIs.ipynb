{
 "cells": [
  {
   "cell_type": "code",
   "execution_count": 2,
   "metadata": {},
   "outputs": [],
   "source": [
    "#Importing the libraries\n",
    "import requests\n",
    "import json\n",
    "import pandas as pd\n",
    "from pandas import DataFrame"
   ]
  },
  {
   "cell_type": "code",
   "execution_count": 16,
   "metadata": {},
   "outputs": [
    {
     "name": "stdout",
     "output_type": "stream",
     "text": [
      "<?xml version=\"1.0\" encoding=\"utf-8\" ?>\n",
      "\n",
      "<series_data title=\"Per Capita Personal Income by State (Dollars)\" region=\"state\" seasonality=\"Not Seasonally Adjusted\" units=\"Dollars\" frequency=\"Annual\">\n",
      "  <observation date=\"2018\" region=\"Alabama\" code=\"01\" value=\"42238.0\" series_id=\"ALPCPI\"/>\n",
      "  <observation date=\"2018\" region=\"Alaska\" code=\"02\" value=\"59420.0\" series_id=\"AKPCPI\"/>\n",
      "  <observation date=\"2018\" region=\"Arizona\" code=\"04\" value=\"44329.0\" series_id=\"AZPCPI\"/>\n",
      "  <observation date=\"2018\" region=\"Arkansas\" code=\"05\" value=\"43233.0\" series_id=\"ARPCPI\"/>\n",
      "  <observation date=\"2018\" region=\"California\" code=\"06\" value=\"63557.0\" series_id=\"CAPCPI\"/>\n",
      "  <observation date=\"2018\" region=\"Colorado\" code=\"08\" value=\"58456.0\" series_id=\"COPCPI\"/>\n",
      "  <observation date=\"2018\" region=\"Connecticut\" code=\"09\" value=\"76456.0\" series_id=\"CTPCPI\"/>\n",
      "  <observation date=\"2018\" region=\"Delaware\" code=\"10\" value=\"52507.0\" series_id=\"DEPCPI\"/>\n",
      "  <observation date=\"2018\" region=\"District of Columbia\" code=\"11\" value=\"82005.0\" series_id=\"DCPCPI\"/>\n",
      "  <observation date=\"2018\" region=\"Florida\" code=\"12\" value=\"50070.0\" series_id=\"FLPCPI\"/>\n",
      "  <observation date=\"2018\" region=\"Georgia\" code=\"13\" value=\"46482.0\" series_id=\"GAPCPI\"/>\n",
      "  <observation date=\"2018\" region=\"Hawaii\" code=\"15\" value=\"55418.0\" series_id=\"HIPCPI\"/>\n",
      "  <observation date=\"2018\" region=\"Idaho\" code=\"16\" value=\"43901.0\" series_id=\"IDPCPI\"/>\n",
      "  <observation date=\"2018\" region=\"Illinois\" code=\"17\" value=\"56839.0\" series_id=\"ILPCPI\"/>\n",
      "  <observation date=\"2018\" region=\"Indiana\" code=\"18\" value=\"47149.0\" series_id=\"INPCPI\"/>\n",
      "  <observation date=\"2018\" region=\"Iowa\" code=\"19\" value=\"50124.0\" series_id=\"IAPCPI\"/>\n",
      "  <observation date=\"2018\" region=\"Kansas\" code=\"20\" value=\"51471.0\" series_id=\"KSPCPI\"/>\n",
      "  <observation date=\"2018\" region=\"Kentucky\" code=\"21\" value=\"42458.0\" series_id=\"KYPCPI\"/>\n",
      "  <observation date=\"2018\" region=\"Louisiana\" code=\"22\" value=\"46242.0\" series_id=\"LAPCPI\"/>\n",
      "  <observation date=\"2018\" region=\"Maine\" code=\"23\" value=\"48905.0\" series_id=\"MEPCPI\"/>\n",
      "  <observation date=\"2018\" region=\"Maryland\" code=\"24\" value=\"63354.0\" series_id=\"MDPCPI\"/>\n",
      "  <observation date=\"2018\" region=\"Massachusetts\" code=\"25\" value=\"71683.0\" series_id=\"MAPCPI\"/>\n",
      "  <observation date=\"2018\" region=\"Michigan\" code=\"26\" value=\"48423.0\" series_id=\"MIPCPI\"/>\n",
      "  <observation date=\"2018\" region=\"Minnesota\" code=\"27\" value=\"57515.0\" series_id=\"MNPCPI\"/>\n",
      "  <observation date=\"2018\" region=\"Mississippi\" code=\"28\" value=\"37834.0\" series_id=\"MSPCPI\"/>\n",
      "  <observation date=\"2018\" region=\"Missouri\" code=\"29\" value=\"47746.0\" series_id=\"MOPCPI\"/>\n",
      "  <observation date=\"2018\" region=\"Montana\" code=\"30\" value=\"47538.0\" series_id=\"MTPCPI\"/>\n",
      "  <observation date=\"2018\" region=\"Nebraska\" code=\"31\" value=\"53263.0\" series_id=\"NEPCPI\"/>\n",
      "  <observation date=\"2018\" region=\"Nevada\" code=\"32\" value=\"49176.0\" series_id=\"NVPCPI\"/>\n",
      "  <observation date=\"2018\" region=\"New Hampshire\" code=\"33\" value=\"61294.0\" series_id=\"NHPCPI\"/>\n",
      "  <observation date=\"2018\" region=\"New Jersey\" code=\"34\" value=\"68236.0\" series_id=\"NJPCPI\"/>\n",
      "  <observation date=\"2018\" region=\"New Mexico\" code=\"35\" value=\"41609.0\" series_id=\"NMPCPI\"/>\n",
      "  <observation date=\"2018\" region=\"New York\" code=\"36\" value=\"68668.0\" series_id=\"NYPCPI\"/>\n",
      "  <observation date=\"2018\" region=\"North Carolina\" code=\"37\" value=\"46117.0\" series_id=\"NCPCPI\"/>\n",
      "  <observation date=\"2018\" region=\"North Dakota\" code=\"38\" value=\"55452.0\" series_id=\"NDPCPI\"/>\n",
      "  <observation date=\"2018\" region=\"Ohio\" code=\"39\" value=\"48739.0\" series_id=\"OHPCPI\"/>\n",
      "  <observation date=\"2018\" region=\"Oklahoma\" code=\"40\" value=\"46233.0\" series_id=\"OKPCPI\"/>\n",
      "  <observation date=\"2018\" region=\"Oregon\" code=\"41\" value=\"50843.0\" series_id=\"ORPCPI\"/>\n",
      "  <observation date=\"2018\" region=\"Pennsylvania\" code=\"42\" value=\"56225.0\" series_id=\"PAPCPI\"/>\n",
      "  <observation date=\"2018\" region=\"Rhode Island\" code=\"44\" value=\"54850.0\" series_id=\"RIPCPI\"/>\n",
      "  <observation date=\"2018\" region=\"South Carolina\" code=\"45\" value=\"43702.0\" series_id=\"SCPCPI\"/>\n",
      "  <observation date=\"2018\" region=\"South Dakota\" code=\"46\" value=\"52216.0\" series_id=\"SDPCPI\"/>\n",
      "  <observation date=\"2018\" region=\"Tennessee\" code=\"47\" value=\"46900.0\" series_id=\"TNPCPI\"/>\n",
      "  <observation date=\"2018\" region=\"Texas\" code=\"48\" value=\"50355.0\" series_id=\"TXPCPI\"/>\n",
      "  <observation date=\"2018\" region=\"Utah\" code=\"49\" value=\"46320.0\" series_id=\"UTPCPI\"/>\n",
      "  <observation date=\"2018\" region=\"Vermont\" code=\"50\" value=\"54173.0\" series_id=\"VTPCPI\"/>\n",
      "  <observation date=\"2018\" region=\"Virginia\" code=\"51\" value=\"57799.0\" series_id=\"VAPCPI\"/>\n",
      "  <observation date=\"2018\" region=\"Washington\" code=\"53\" value=\"62026.0\" series_id=\"WAPCPI\"/>\n",
      "  <observation date=\"2018\" region=\"West Virginia\" code=\"54\" value=\"40873.0\" series_id=\"WVPCPI\"/>\n",
      "  <observation date=\"2018\" region=\"Wisconsin\" code=\"55\" value=\"51592.0\" series_id=\"WIPCPI\"/>\n",
      "  <observation date=\"2018\" region=\"Wyoming\" code=\"56\" value=\"60361.0\" series_id=\"WYPCPI\"/>\n",
      "</series_data>\n",
      "\n"
     ]
    }
   ],
   "source": [
    "#Calling the API\n",
    "#your_key = '0kl0DnG688Ec6mw3hjQjrGFz00LiyMHG'\n",
    "url = 'https://api.stlouisfed.org/geofred/series/data?series_id=WIPCPI&api_key=cc32522c021053498fbe94f21fd3eb17&date=2018-01-01'\n",
    "\n",
    "r = requests.get(url)\n",
    "print(r.text)\n",
    "#json_data = r.json()\n",
    "#json_data"
   ]
  },
  {
   "cell_type": "code",
   "execution_count": null,
   "metadata": {},
   "outputs": [],
   "source": []
  }
 ],
 "metadata": {
  "kernelspec": {
   "display_name": "Python 3",
   "language": "python",
   "name": "python3"
  },
  "language_info": {
   "codemirror_mode": {
    "name": "ipython",
    "version": 3
   },
   "file_extension": ".py",
   "mimetype": "text/x-python",
   "name": "python",
   "nbconvert_exporter": "python",
   "pygments_lexer": "ipython3",
   "version": "3.7.3"
  }
 },
 "nbformat": 4,
 "nbformat_minor": 2
}
